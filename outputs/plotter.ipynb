{
 "cells": [
  {
   "cell_type": "code",
   "execution_count": 62,
   "metadata": {
    "scrolled": true
   },
   "outputs": [
    {
     "data": {
      "image/png": "[encoded data removed]",
      "text/plain": [
       "<Figure size 432x288 with 1 Axes>"
      ]
     },
     "metadata": {
      "needs_background": "light"
     },
     "output_type": "display_data"
    }
   ],
   "source": [
    "import numpy as np\n",
    "import matplotlib.pyplot as plt\n",
    "import pandas as pd\n",
    "import seaborn as sns\n",
    "from matplotlib.axes import Axes\n",
    "\n",
    "rootAddress = '/home/nassiram/dev/assignments/cloud-computing/a2/cloudsim-cloudsim-4.0/outputs/'\n",
    "setting = 'High Machine Heterogeneity/250'\n",
    "\n",
    "file = open(rootAddress + setting + '/experimentOutput.txt')\n",
    "\n",
    "ga_x_values = []\n",
    "ga_y_values = []\n",
    "\n",
    "fga_x_values = []\n",
    "fga_y_values = []\n",
    "\n",
    "line = file.readline()\n",
    "\n",
    "while(line):\n",
    "    \n",
    "    values = line.split(',')\n",
    "    \n",
    "    if values[0] == 'MinMin':\n",
    "        min_min = float(values[1])\n",
    "        \n",
    "    elif values[0] == 'MaxMin':\n",
    "        max_min = float(values[1])\n",
    "        \n",
    "    elif values[0].startswith('GA-'):\n",
    "        \n",
    "        dashIndex = int(values[0].index('-')) + 1\n",
    "        xIndex = int(values[0].index('x'))\n",
    "        \n",
    "        ga_x_values.append(float(values[0][dashIndex:xIndex]))\n",
    "        ga_y_values.append(float(values[1]))\n",
    "        \n",
    "    elif values[0].startswith('FGA-'):\n",
    "        \n",
    "        dashIndex = int(values[0].index('-')) + 1\n",
    "        xIndex = int(values[0].index('x'))\n",
    "        \n",
    "        fga_x_values.append(float(values[0][dashIndex:xIndex]))\n",
    "        fga_y_values.append(float(values[1]))\n",
    "    \n",
    "    line = file.readline()\n",
    "\n",
    "file.close()\n",
    "\n",
    "plt.axhline(y=min_min, color='r', linestyle=':', label='MinMin')\n",
    "plt.axhline(y=max_min, color='b', linestyle=':', label='MaxMin')\n",
    "\n",
    "plt.plot(ga_x_values, ga_y_values, linewidth=2, label='GA')\n",
    "plt.plot(fga_x_values, fga_y_values, linewidth=2, label='Fed GA')\n",
    "\n",
    "plt.xlabel('Time')\n",
    "plt.ylabel('Makespan')\n",
    "plt.legend()\n",
    "\n",
    "plt.xlim(-8,108)\n",
    "\n",
    "figure_name = '/' + setting.replace('/',' - ') + '.png'\n",
    "\n",
    "plt.savefig(rootAddress + setting + figure_name, dpi=300)\n",
    "plt.show()"
   ]
  },
  {
   "cell_type": "code",
   "execution_count": null,
   "metadata": {},
   "outputs": [],
   "source": []
  }
 ],
 "metadata": {
  "kernelspec": {
   "display_name": "Python 3",
   "language": "python",
   "name": "python3"
  },
  "language_info": {
   "codemirror_mode": {
    "name": "ipython",
    "version": 3
   },
   "file_extension": ".py",
   "mimetype": "text/x-python",
   "name": "python",
   "nbconvert_exporter": "python",
   "pygments_lexer": "ipython3",
   "version": "3.7.1"
  }
 },
 "nbformat": 4,
 "nbformat_minor": 2
}
